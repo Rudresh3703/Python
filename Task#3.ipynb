{
 "cells": [
  {
   "cell_type": "code",
   "execution_count": 28,
   "metadata": {},
   "outputs": [
    {
     "name": "stdout",
     "output_type": "stream",
     "text": [
      "3\n"
     ]
    }
   ],
   "source": [
    "# task-3\n",
    "# go through other inbuilt methods like remove(),count(),clear(),sort(),reverse()\n",
    "\n",
    "#\tReturns the number of elements with the specified value\n",
    "a = [ \"apples\",\"garph\",\"apples\", 2,3.3,True,2,2]\n",
    "\n",
    "r = a.count(2)    \n",
    "\n",
    "print(r)"
   ]
  },
  {
   "cell_type": "code",
   "execution_count": 9,
   "metadata": {},
   "outputs": [
    {
     "name": "stdout",
     "output_type": "stream",
     "text": [
      "a\n"
     ]
    }
   ],
   "source": [
    "#Returns a character from the specified Unicode code.\n",
    "\n",
    "x = chr(97)\n",
    "\n",
    "print(x)"
   ]
  },
  {
   "cell_type": "code",
   "execution_count": 3,
   "metadata": {},
   "outputs": [
    {
     "name": "stdout",
     "output_type": "stream",
     "text": [
      "['cat', 'cow']\n"
     ]
    }
   ],
   "source": [
    "#Removes the first item with the specified value\n",
    "\n",
    "animals = ['cat', 'dog', 'cow']\n",
    "\n",
    "animals.remove(\"dog\")\n",
    "print(animals)"
   ]
  },
  {
   "cell_type": "code",
   "execution_count": 4,
   "metadata": {},
   "outputs": [
    {
     "name": "stdout",
     "output_type": "stream",
     "text": [
      "['cow', 'dog', 'cat']\n"
     ]
    }
   ],
   "source": [
    "#Reverses the order of the list\n",
    "\n",
    "animals = ['cat', 'dog', 'cow']\n",
    "\n",
    "animals.reverse()\n",
    "\n",
    "print(animals)"
   ]
  },
  {
   "cell_type": "code",
   "execution_count": 5,
   "metadata": {},
   "outputs": [
    {
     "name": "stdout",
     "output_type": "stream",
     "text": [
      "['ant', 'cat', 'dog']\n"
     ]
    }
   ],
   "source": [
    "#\tSorts the list\n",
    "\n",
    "animals = ['cat', 'dog', 'ant']\n",
    "\n",
    "animals.sort()\n",
    "\n",
    "print(animals)"
   ]
  },
  {
   "cell_type": "code",
   "execution_count": 26,
   "metadata": {},
   "outputs": [
    {
     "data": {
      "text/plain": [
       "18"
      ]
     },
     "execution_count": 26,
     "metadata": {},
     "output_type": "execute_result"
    }
   ],
   "source": [
    "r = \"rudresh is my name\"\n",
    "len(r)"
   ]
  },
  {
   "cell_type": "code",
   "execution_count": null,
   "metadata": {},
   "outputs": [],
   "source": []
  }
 ],
 "metadata": {
  "kernelspec": {
   "display_name": "Python 3",
   "language": "python",
   "name": "python3"
  },
  "language_info": {
   "codemirror_mode": {
    "name": "ipython",
    "version": 3
   },
   "file_extension": ".py",
   "mimetype": "text/x-python",
   "name": "python",
   "nbconvert_exporter": "python",
   "pygments_lexer": "ipython3",
   "version": "3.7.4"
  }
 },
 "nbformat": 4,
 "nbformat_minor": 2
}
