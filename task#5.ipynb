{
 "cells": [
  {
   "cell_type": "code",
   "execution_count": 3,
   "metadata": {},
   "outputs": [
    {
     "name": "stdout",
     "output_type": "stream",
     "text": [
      "{'rudra', 'sagar'}\n"
     ]
    }
   ],
   "source": [
    "#Task5 - go through other inbuilt methods like\n",
    "# 1) difference() 2) symmetric_difference()\n",
    "\n",
    "#Returns a set containing the difference between two or more sets\n",
    "\n",
    "x = {\"sachin\", \"sagar\", \"rudra\"}\n",
    "y = {\"abhi\", \"push\",\"sachin\"}\n",
    "\n",
    "z = x.difference(y) \n",
    "print(z)"
   ]
  },
  {
   "cell_type": "code",
   "execution_count": 2,
   "metadata": {},
   "outputs": [
    {
     "name": "stdout",
     "output_type": "stream",
     "text": [
      "{'abhi', 'push'}\n"
     ]
    }
   ],
   "source": [
    "#Returns a set containing the difference between two or more sets\n",
    "\n",
    "x = {\"sachin\", \"sagar\", \"rudra\"}\n",
    "y = {\"abhi\", \"rudra\", \"push\",\"sachin\"}\n",
    "\n",
    "z = y.difference(x) \n",
    "print(z)"
   ]
  },
  {
   "cell_type": "code",
   "execution_count": 3,
   "metadata": {},
   "outputs": [
    {
     "name": "stdout",
     "output_type": "stream",
     "text": [
      "{'abhi', 'sagar', 'push'}\n"
     ]
    }
   ],
   "source": [
    "#\tReturns a set with the symmetric differences of two sets\n",
    "\n",
    "x = {\"sachin\", \"sagar\", \"rudra\"}\n",
    "y = {\"abhi\", \"rudra\", \"push\",\"sachin\"}\n",
    "\n",
    "z = y.symmetric_difference(x)\n",
    "\n",
    "print(z)"
   ]
  },
  {
   "cell_type": "code",
   "execution_count": 4,
   "metadata": {},
   "outputs": [
    {
     "name": "stdout",
     "output_type": "stream",
     "text": [
      "{'abhi', 'sagar', 'push'}\n"
     ]
    }
   ],
   "source": [
    "#\tReturns a set with the symmetric differences of two sets\n",
    "\n",
    "x = {\"sachin\", \"sagar\", \"rudra\"}\n",
    "y = {\"abhi\", \"rudra\", \"push\",\"sachin\"}\n",
    "\n",
    "z = x.symmetric_difference(y) \n",
    "\n",
    "\n",
    "print(z)"
   ]
  },
  {
   "cell_type": "code",
   "execution_count": null,
   "metadata": {},
   "outputs": [],
   "source": []
  }
 ],
 "metadata": {
  "kernelspec": {
   "display_name": "Python 3",
   "language": "python",
   "name": "python3"
  },
  "language_info": {
   "codemirror_mode": {
    "name": "ipython",
    "version": 3
   },
   "file_extension": ".py",
   "mimetype": "text/x-python",
   "name": "python",
   "nbconvert_exporter": "python",
   "pygments_lexer": "ipython3",
   "version": "3.7.4"
  }
 },
 "nbformat": 4,
 "nbformat_minor": 2
}
