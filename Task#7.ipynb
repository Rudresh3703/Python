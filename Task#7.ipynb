{
 "cells": [
  {
   "cell_type": "code",
   "execution_count": 3,
   "metadata": {},
   "outputs": [
    {
     "name": "stdout",
     "output_type": "stream",
     "text": [
      "enter the num1:2\n",
      "enter the num2:5\n",
      "2\n",
      "5\n",
      "7\n"
     ]
    }
   ],
   "source": [
    "#Task7\n",
    "# Ask 2 numbers from users and store it in num1 and num2\n",
    "# Ask user to press 1 for addition,2 for subtraction,3 for multiplication and 4 for division\n",
    "# based on number given by user do the math operation\n",
    "\n",
    "num1 = int(input(\"enter the num1:\"))\n",
    "num2 = int(input(\"enter the num2:\"))\n",
    "print(num1)\n",
    "print(num2)\n",
    "num3=num1+num2\n",
    "print(num3)\n",
    "\n",
    "\n"
   ]
  },
  {
   "cell_type": "code",
   "execution_count": 1,
   "metadata": {},
   "outputs": [
    {
     "name": "stdout",
     "output_type": "stream",
     "text": [
      "enter the number = 1\n",
      "the sum of two numbers :  8\n"
     ]
    }
   ],
   "source": [
    "num1 = 3\n",
    "num2 = 5\n",
    "num=int(input(\"enter the number = \"))\n",
    "if(num==1):\n",
    "    num3=num1+num2\n",
    "    print(\"the sum of two numbers : \",num3)\n",
    "elif(num==2):\n",
    "    num3=num1-num2\n",
    "    print(\"the substraction of two numbers : \",num3)\n",
    "elif(num==3):    \n",
    "    num3=num1*num2\n",
    "    print(\"the multiplication of two numbers : \",num3)\n",
    "elif(num==4):    \n",
    "    num3=num1/num2\n",
    "    print(\"the division of two numbers : \",num3)\n",
    "else:\n",
    "    print(\"ntg\")"
   ]
  },
  {
   "cell_type": "code",
   "execution_count": null,
   "metadata": {},
   "outputs": [],
   "source": []
  }
 ],
 "metadata": {
  "kernelspec": {
   "display_name": "Python 3",
   "language": "python",
   "name": "python3"
  },
  "language_info": {
   "codemirror_mode": {
    "name": "ipython",
    "version": 3
   },
   "file_extension": ".py",
   "mimetype": "text/x-python",
   "name": "python",
   "nbconvert_exporter": "python",
   "pygments_lexer": "ipython3",
   "version": "3.7.4"
  }
 },
 "nbformat": 4,
 "nbformat_minor": 2
}
