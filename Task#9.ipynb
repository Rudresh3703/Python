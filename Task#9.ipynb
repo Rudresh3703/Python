{
 "cells": [
  {
   "cell_type": "code",
   "execution_count": 1,
   "metadata": {},
   "outputs": [],
   "source": [
    "# Task9\n",
    "# Ask 2 numbers from users and store it in num1 and num2\n",
    "# Ask user to press 1 for addition,2 for subtraction,3 for multiplication and 4 for division\n",
    "# create 4 seperate functions for each operation (i.e. addition,subtraction,multiplication and division)\n",
    "# based on number given by user,call that perticular function and print the output\n"
   ]
  },
  {
   "cell_type": "code",
   "execution_count": 2,
   "metadata": {},
   "outputs": [],
   "source": [
    "def rudra():\n",
    "    num=int(input(\"enter the num = \"))\n",
    "    num=0+num\n",
    "    num1=int(input(\"enter the num1 = \"))\n",
    "    num2=int(input(\"enter the num2 = \"))\n",
    "\n",
    "    def my_func1():\n",
    "        num3=num1+num2\n",
    "        print(\"the sum of two numbers : \",num3)\n",
    "        \n",
    "    def my_func2():\n",
    "        num3=num1+num2\n",
    "        print(\"the substraction of two numbers : \",num3)\n",
    "        \n",
    "    def my_func3():\n",
    "        num3=num1*num2\n",
    "        print(\"the multiplication of two numbers : \",num3)\n",
    "        \n",
    "    def my_func4():\n",
    "        num3=num1/num2\n",
    "        print(\"the division of two numbers : \",num3)\n",
    "        \n",
    "    if(num==1):\n",
    "        my_func1()\n",
    "            \n",
    "    elif(num==2): \n",
    "        my_func2()\n",
    "        \n",
    "    elif(num==3): \n",
    "        my_func3()\n",
    "            \n",
    "    elif(num==4): \n",
    "        my_func4()\n",
    "    else:\n",
    "        print(\"ntg\")\n",
    "        "
   ]
  },
  {
   "cell_type": "code",
   "execution_count": 3,
   "metadata": {},
   "outputs": [
    {
     "name": "stdout",
     "output_type": "stream",
     "text": [
      "enter the num = 1\n",
      "enter the num1 = 3\n",
      "enter the num2 = 2\n",
      "the sum of two numbers :  5\n"
     ]
    }
   ],
   "source": [
    "rudra()"
   ]
  },
  {
   "cell_type": "code",
   "execution_count": null,
   "metadata": {},
   "outputs": [],
   "source": []
  }
 ],
 "metadata": {
  "kernelspec": {
   "display_name": "Python 3",
   "language": "python",
   "name": "python3"
  },
  "language_info": {
   "codemirror_mode": {
    "name": "ipython",
    "version": 3
   },
   "file_extension": ".py",
   "mimetype": "text/x-python",
   "name": "python",
   "nbconvert_exporter": "python",
   "pygments_lexer": "ipython3",
   "version": "3.7.4"
  }
 },
 "nbformat": 4,
 "nbformat_minor": 2
}
